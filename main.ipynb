{
 "cells": [
  {
   "cell_type": "markdown",
   "metadata": {},
   "source": [
    "## Hangman Logic"
   ]
  },
  {
   "cell_type": "code",
   "execution_count": 9,
   "metadata": {},
   "outputs": [],
   "source": [
    "def hangman(secret_word: str, guesser, max_mistakes=8, verbose=True, **guesser_args):\n",
    "    \"\"\"Play a hangman game with the secret word with the provided guesser\"\"\"\n",
    "\n",
    "    # Initialize the game state\n",
    "    secret_word = secret_word.lower()\n",
    "    mask = ['_'] * len(secret_word)\n",
    "    guessed = set()\n",
    "    if verbose:\n",
    "        print(\"Starting hangman game. Target is\",\n",
    "              ' '.join(mask), 'length', len(secret_word))\n",
    "\n",
    "    # Loop through the game\n",
    "    mistakes = 0\n",
    "    while mistakes < max_mistakes:\n",
    "        if verbose:\n",
    "            print(\"You have\", (max_mistakes-mistakes), \"attempts remaining.\")\n",
    "        guess = guesser(mask, guessed, **guesser_args)\n",
    "\n",
    "        # Print the guess\n",
    "        if verbose:\n",
    "            print('Guess is', guess)\n",
    "\n",
    "        # Check if the guess is already guessed\n",
    "        if guess in guessed:\n",
    "            if verbose:\n",
    "                print('Already guessed this before.')\n",
    "            mistakes += 1\n",
    "        else:\n",
    "            # Add the guess to the guessed set if it is valid and not already guessed\n",
    "            guessed.add(guess)\n",
    "            if guess in secret_word and len(guess) == 1:\n",
    "                for i, c in enumerate(secret_word):\n",
    "                    if c == guess:\n",
    "                        mask[i] = c\n",
    "                if verbose:\n",
    "                    print('Good guess:', ' '.join(mask))\n",
    "            else:\n",
    "                # Print the mistake if the guess is invalid\n",
    "                if len(guess) != 1:\n",
    "                    print('Please guess with only 1 character.')\n",
    "                if verbose:\n",
    "                    print('Sorry, try again.')\n",
    "                mistakes += 1\n",
    "\n",
    "        # Check if the game is over and break\n",
    "        if '_' not in mask:\n",
    "            if verbose:\n",
    "                print('Congratulations, you won.')\n",
    "            return mistakes\n",
    "\n",
    "    # Print the secret word if the game is lost\n",
    "    if verbose:\n",
    "        print('Out of guesses. The word was', secret_word)\n",
    "    # Return the number of mistakes made\n",
    "    return mistakes"
   ]
  },
  {
   "cell_type": "markdown",
   "metadata": {},
   "source": [
    "## Preprocessing"
   ]
  },
  {
   "cell_type": "code",
   "execution_count": 10,
   "metadata": {},
   "outputs": [
    {
     "name": "stderr",
     "output_type": "stream",
     "text": [
      "[nltk_data] Downloading package brown to /home/vscode/nltk_data...\n",
      "[nltk_data]   Package brown is already up-to-date!\n"
     ]
    },
    {
     "name": "stdout",
     "output_type": "stream",
     "text": [
      "Number of word types in train = 39234\n",
      "Number of word types in test = 1000\n"
     ]
    }
   ],
   "source": [
    "import nltk\n",
    "import numpy as np\n",
    "from nltk.corpus import brown\n",
    "\n",
    "\n",
    "def preprocess(corpus):\n",
    "    \"\"\"Preprocess and shuffle the corpus\"\"\"\n",
    "\n",
    "    corpus = set([word.lower() for word in corpus])\n",
    "    corpus = list([word for word in corpus if word.isalpha()])\n",
    "    np.random.shuffle(corpus)\n",
    "    return corpus\n",
    "\n",
    "\n",
    "# Download the Brown corpus\n",
    "nltk.download('brown')\n",
    "np.random.seed(1)\n",
    "\n",
    "# Preprocess and split the corpus\n",
    "brown_corpus = preprocess(brown.words())\n",
    "training_set = brown_corpus[1000:]\n",
    "test_set = brown_corpus[:1000]\n",
    "print(\"Number of word types in train =\", len(training_set))\n",
    "print(\"Number of word types in test =\", len(test_set))"
   ]
  },
  {
   "cell_type": "markdown",
   "metadata": {},
   "source": [
    "## Human Guesser"
   ]
  },
  {
   "cell_type": "code",
   "execution_count": 11,
   "metadata": {},
   "outputs": [],
   "source": [
    "def human(mask, guessed, **kwargs):\n",
    "    \"\"\"Play a hangman game interactively with the user\"\"\"\n",
    "\n",
    "    print('\\nEnter your guess:')\n",
    "    return input().lower().strip()\n",
    "\n",
    "\n",
    "# Set `interactive` to `True` to play the game manually\n",
    "interactive = False\n",
    "# interactive = True\n",
    "\n",
    "if interactive:\n",
    "    hangman('whatever', human, 8, True)"
   ]
  }
 ],
 "metadata": {
  "kernelspec": {
   "display_name": "Python 3",
   "language": "python",
   "name": "python3"
  },
  "language_info": {
   "codemirror_mode": {
    "name": "ipython",
    "version": 3
   },
   "file_extension": ".py",
   "mimetype": "text/x-python",
   "name": "python",
   "nbconvert_exporter": "python",
   "pygments_lexer": "ipython3",
   "version": "3.8.20"
  }
 },
 "nbformat": 4,
 "nbformat_minor": 2
}
