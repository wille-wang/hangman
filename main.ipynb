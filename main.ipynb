{
 "cells": [
  {
   "cell_type": "markdown",
   "metadata": {},
   "source": [
    "## Hangman Logic"
   ]
  },
  {
   "cell_type": "code",
   "execution_count": 73,
   "metadata": {},
   "outputs": [],
   "source": [
    "def hangman(secret_word: str, guesser, max_mistakes=8, verbose=True, **guesser_args):\n",
    "    \"\"\"Play a hangman game with the secret word with the provided guesser\"\"\"\n",
    "\n",
    "    # Initialize the game state\n",
    "    secret_word = secret_word.lower()\n",
    "    mask = ['_'] * len(secret_word)\n",
    "    guessed = set()\n",
    "    if verbose:\n",
    "        print(\"Starting hangman game. Target is\",\n",
    "              ' '.join(mask), 'length', len(secret_word))\n",
    "\n",
    "    # Loop through the game\n",
    "    mistakes = 0\n",
    "    while mistakes < max_mistakes:\n",
    "        if verbose:\n",
    "            print(\"You have\", (max_mistakes-mistakes), \"attempts remaining.\")\n",
    "        guess = guesser(mask, guessed, **guesser_args)\n",
    "\n",
    "        # Print the guess\n",
    "        if verbose:\n",
    "            print('Guess is', guess)\n",
    "\n",
    "        # Check if the guess is already guessed\n",
    "        if guess in guessed:\n",
    "            if verbose:\n",
    "                print('Already guessed this before.')\n",
    "            mistakes += 1\n",
    "        else:\n",
    "            # Add the guess to the guessed set if it is valid and not already guessed\n",
    "            guessed.add(guess)\n",
    "            if guess in secret_word and len(guess) == 1:\n",
    "                for i, c in enumerate(secret_word):\n",
    "                    if c == guess:\n",
    "                        mask[i] = c\n",
    "                if verbose:\n",
    "                    print('Good guess:', ' '.join(mask))\n",
    "            else:\n",
    "                # Print the mistake if the guess is invalid\n",
    "                if len(guess) != 1:\n",
    "                    print('Please guess with only 1 character.')\n",
    "                if verbose:\n",
    "                    print('Sorry, try again.')\n",
    "                mistakes += 1\n",
    "\n",
    "        # Check if the game is over and break\n",
    "        if '_' not in mask:\n",
    "            if verbose:\n",
    "                print('Congratulations, you won.')\n",
    "            return mistakes\n",
    "\n",
    "    # Print the secret word if the game is lost\n",
    "    if verbose:\n",
    "        print('Out of guesses. The word was', secret_word)\n",
    "    # Return the number of mistakes made\n",
    "    return mistakes\n",
    "\n",
    "\n",
    "def test_guesser(guesser, test):\n",
    "    \"\"\"Measure the performance of a guesser on a test set of words and return \n",
    "    the average number of mistakes\"\"\"\n",
    "\n",
    "    total = 0\n",
    "    for word in test:\n",
    "        total += hangman(word, guesser, 26, False)\n",
    "    return total / float(len(test))"
   ]
  },
  {
   "cell_type": "markdown",
   "metadata": {},
   "source": [
    "## Preprocessing"
   ]
  },
  {
   "cell_type": "code",
   "execution_count": 74,
   "metadata": {},
   "outputs": [
    {
     "name": "stderr",
     "output_type": "stream",
     "text": [
      "[nltk_data] Downloading package brown to /home/vscode/nltk_data...\n",
      "[nltk_data]   Package brown is already up-to-date!\n"
     ]
    },
    {
     "name": "stdout",
     "output_type": "stream",
     "text": [
      "Number of word types in train = 39234\n",
      "Number of word types in test = 1000\n"
     ]
    }
   ],
   "source": [
    "import nltk\n",
    "import numpy as np\n",
    "from nltk.corpus import brown\n",
    "\n",
    "\n",
    "def preprocess(corpus):\n",
    "    \"\"\"Preprocess and shuffle the corpus\"\"\"\n",
    "\n",
    "    corpus = set([word.lower() for word in corpus])\n",
    "    corpus = list([word for word in corpus if word.isalpha()])\n",
    "    np.random.shuffle(corpus)\n",
    "    return corpus\n",
    "\n",
    "\n",
    "# Download the Brown corpus\n",
    "nltk.download('brown')\n",
    "np.random.seed(1)\n",
    "\n",
    "# Preprocess and split the corpus\n",
    "brown_corpus = preprocess(brown.words())\n",
    "training_set = brown_corpus[1000:]\n",
    "test_set = brown_corpus[:1000]\n",
    "print(\"Number of word types in train =\", len(training_set))\n",
    "print(\"Number of word types in test =\", len(test_set))"
   ]
  },
  {
   "cell_type": "code",
   "execution_count": 75,
   "metadata": {},
   "outputs": [],
   "source": [
    "def test(guesser, guesser_name):\n",
    "    \"\"\"Test the guesser on the test set and print the results\"\"\"\n",
    "\n",
    "    random_word = np.random.choice(test_set)\n",
    "    print(\"Guessing word =\", random_word)\n",
    "    print(f\"Number of mistakes made by the {guesser_name} =\",\n",
    "          hangman(random_word, guesser, 26, False))\n",
    "\n",
    "    result = test_guesser(guesser, test_set)\n",
    "    print(f\"\\nTesting the {guesser_name} using every word in test set\")\n",
    "    print(\"Average number of incorrect guesses: \", result)"
   ]
  },
  {
   "cell_type": "markdown",
   "metadata": {},
   "source": [
    "## Human Guesser"
   ]
  },
  {
   "cell_type": "code",
   "execution_count": 76,
   "metadata": {},
   "outputs": [],
   "source": [
    "def human(mask, guessed, **kwargs):\n",
    "    \"\"\"Play a hangman game interactively with the user\"\"\"\n",
    "\n",
    "    print('\\nEnter your guess:')\n",
    "    return input().lower().strip()\n",
    "\n",
    "\n",
    "# Set `interactive` to `True` to play the game manually\n",
    "interactive = False\n",
    "# interactive = True\n",
    "\n",
    "if interactive:\n",
    "    hangman('whatever', human, 8, True)"
   ]
  },
  {
   "cell_type": "markdown",
   "metadata": {},
   "source": [
    "## Baseline Random Guesser"
   ]
  },
  {
   "cell_type": "code",
   "execution_count": 77,
   "metadata": {},
   "outputs": [
    {
     "name": "stdout",
     "output_type": "stream",
     "text": [
      "Guessing word = lapels\n",
      "Number of mistakes made by the random guesser = 21\n",
      "\n",
      "Testing the random guesser using every word in test set\n",
      "Average number of incorrect guesses:  16.477\n"
     ]
    }
   ],
   "source": [
    "def random_guesser(mask, guessed, **kwargs) -> str:\n",
    "    \"\"\"Choose a random letter that is not already guessed\"\"\"\n",
    "\n",
    "    # Remove the guessed letters\n",
    "    whole_alphabet = set('abcdefghijklmnopqrstuvwxyz')\n",
    "    remaining_alphabet: set[str] = whole_alphabet - guessed\n",
    "\n",
    "    # Choose a random letter\n",
    "    guess: str = np.random.choice(list(remaining_alphabet))\n",
    "    return guess\n",
    "\n",
    "\n",
    "test(random_guesser, \"random guesser\")"
   ]
  },
  {
   "cell_type": "markdown",
   "metadata": {},
   "source": [
    "## Unigram Guesser"
   ]
  },
  {
   "cell_type": "code",
   "execution_count": 78,
   "metadata": {},
   "outputs": [
    {
     "name": "stdout",
     "output_type": "stream",
     "text": [
      "Guessing word = prune\n",
      "Number of mistakes made by the unigram guesser = 10\n",
      "\n",
      "Testing the unigram guesser using every word in test set\n",
      "Average number of incorrect guesses:  10.214\n"
     ]
    }
   ],
   "source": [
    "from collections import Counter\n",
    "\n",
    "\n",
    "# Count the frequency of each letter in the training set\n",
    "unigram_counts = Counter()\n",
    "for word in training_set:\n",
    "    unigram_counts.update(word)\n",
    "\n",
    "\n",
    "def unigram_guesser(mask, guessed, unigram_counts=unigram_counts):\n",
    "    \"\"\"Return the letter with the highest frequency\"\"\"\n",
    "\n",
    "    # Remove the guessed letters\n",
    "    whole_alphabet = set('abcdefghijklmnopqrstuvwxyz')\n",
    "    remaining_alphabet: set[str] = whole_alphabet - guessed\n",
    "\n",
    "    # Choose the most frequent letter\n",
    "    sorted_remaining_alphabet = sorted(\n",
    "        unigram_counts.items(), key=lambda item: item[1], reverse=True\n",
    "    )\n",
    "    for letter, freq in sorted_remaining_alphabet:\n",
    "        if letter in remaining_alphabet:\n",
    "            return letter\n",
    "\n",
    "\n",
    "test(unigram_guesser, \"unigram guesser\")"
   ]
  },
  {
   "cell_type": "markdown",
   "metadata": {},
   "source": [
    "## Unigram Length Guesser"
   ]
  },
  {
   "cell_type": "code",
   "execution_count": 79,
   "metadata": {},
   "outputs": [
    {
     "name": "stdout",
     "output_type": "stream",
     "text": [
      "Guessing word = destructive\n",
      "Number of mistakes made by the unigram length guesser = 11\n",
      "\n",
      "Testing the unigram length guesser using every word in test set\n",
      "Average number of incorrect guesses:  10.175\n"
     ]
    }
   ],
   "source": [
    "from collections import defaultdict\n",
    "\n",
    "\n",
    "# Count the frequency of each letter in the training set by word length\n",
    "unigram_counts_by_length = defaultdict(Counter)\n",
    "for word in training_set:\n",
    "    word_len = len(word)\n",
    "    if word_len not in unigram_counts_by_length.keys():\n",
    "        unigram_counts_by_length[word_len] = Counter()\n",
    "    unigram_counts_by_length[word_len].update(word)\n",
    "\n",
    "\n",
    "def unigram_length_guesser(\n",
    "    mask,\n",
    "    guessed,\n",
    "    unigram_counts_by_length=unigram_counts_by_length,\n",
    "    unigram_counts=unigram_counts\n",
    "):\n",
    "    \"\"\"Return the most frequent letter given the length of the word\"\"\"\n",
    "\n",
    "    # Remove the guessed letters\n",
    "    whole_alphabet = set('abcdefghijklmnopqrstuvwxyz')\n",
    "    remaining_alphabet: set[str] = whole_alphabet - guessed\n",
    "\n",
    "    # Retrieve unigram counts for the given mask length\n",
    "    unigram_counts_for_length = unigram_counts_by_length.get(len(mask))\n",
    "\n",
    "    if unigram_counts_for_length:\n",
    "        # Choose the most frequent letter given the mask length\n",
    "        sorted_remaining_alphabet = sorted(\n",
    "            unigram_counts_for_length.items(),\n",
    "            key=lambda item: item[1],\n",
    "            reverse=True\n",
    "        )\n",
    "        for letter, freq in sorted_remaining_alphabet:\n",
    "            if letter in remaining_alphabet:\n",
    "                return letter\n",
    "\n",
    "    # Use unigrams if the letter does not exist in `unigram_counts_by_length`\n",
    "    sorted_remaining_alphabet = sorted(\n",
    "        unigram_counts.items(),\n",
    "        key=lambda item: item[1],\n",
    "        reverse=True\n",
    "    )\n",
    "    for letter, freq in sorted_remaining_alphabet:\n",
    "        if letter in remaining_alphabet:\n",
    "            return letter\n",
    "\n",
    "\n",
    "test(unigram_length_guesser, \"unigram length guesser\")"
   ]
  },
  {
   "cell_type": "markdown",
   "metadata": {},
   "source": [
    "## Bigram Guesser"
   ]
  },
  {
   "cell_type": "code",
   "execution_count": 80,
   "metadata": {},
   "outputs": [
    {
     "name": "stdout",
     "output_type": "stream",
     "text": [
      "Guessing word = twenty\n",
      "Number of mistakes made by the bigram guesser = 10\n",
      "\n",
      "Testing the bigram guesser using every word in test set\n",
      "Average number of incorrect guesses:  8.743\n"
     ]
    }
   ],
   "source": [
    "# Count the frequency of each letter in the training set by two-letter sequences\n",
    "bigram_counts = defaultdict(Counter)\n",
    "for word in training_set:\n",
    "    word = '$' + word  # Add a start symbol\n",
    "    for i in range(1, len(word)):\n",
    "        bigram_counts[word[i-1]].update(word[i])\n",
    "\n",
    "\n",
    "def bigram_guesser(\n",
    "    mask,\n",
    "    guessed,\n",
    "    bigram_counts=bigram_counts,\n",
    "    unigram_counts=unigram_counts,\n",
    "):\n",
    "    \"\"\"Return the most frequent letter given the previous letter in the word\"\"\"\n",
    "\n",
    "    # Remove the guessed letters\n",
    "    whole_alphabet = set('abcdefghijklmnopqrstuvwxyz')\n",
    "    remaining_alphabet: set[str] = whole_alphabet - guessed\n",
    "\n",
    "    letter_freq = dict()\n",
    "    for letter in remaining_alphabet:\n",
    "        letter_freq[letter] = 0\n",
    "\n",
    "    mask: list[str] = ['$'] + mask\n",
    "    for i in range(1, len(mask)):\n",
    "        if mask[i] == '_':\n",
    "            if mask[i-1] != '_':\n",
    "                for letter in remaining_alphabet:\n",
    "                    letter_freq[letter] += bigram_counts.get(\n",
    "                        mask[i-1], 0).get(letter, 0)\n",
    "            else:\n",
    "                sorted_remaining_alphabet = sorted(\n",
    "                    unigram_counts.items(),\n",
    "                    key=lambda item: item[1],\n",
    "                    reverse=True\n",
    "                )\n",
    "                for letter, freq in sorted_remaining_alphabet:\n",
    "                    if letter in remaining_alphabet:\n",
    "                        return letter\n",
    "\n",
    "    # Choose the letter with the highest sum of probabilities\n",
    "    return max(letter_freq, key=letter_freq.get)\n",
    "\n",
    "\n",
    "test(bigram_guesser, \"bigram guesser\")"
   ]
  },
  {
   "cell_type": "markdown",
   "metadata": {},
   "source": [
    "## Advanced Guesser"
   ]
  },
  {
   "cell_type": "code",
   "execution_count": 81,
   "metadata": {},
   "outputs": [
    {
     "name": "stdout",
     "output_type": "stream",
     "text": [
      "Guessing word = curriculums\n",
      "Number of mistakes made by the advanced guesser = 7\n",
      "\n",
      "Testing the advanced guesser using every word in test set\n",
      "Average number of incorrect guesses:  7.34\n"
     ]
    }
   ],
   "source": [
    "# Bigrams and reverse bigrams\n",
    "bigram_counts = defaultdict(Counter)\n",
    "for word in training_set:\n",
    "    word = '$' + word\n",
    "    for i in range(1, len(word)):\n",
    "        bigram_counts[word[i-1]].update(word[i])\n",
    "rev_bigram_counts = defaultdict(Counter)\n",
    "for word in training_set:\n",
    "    word = word + '$'\n",
    "    for i in range(0, len(word)-1):\n",
    "        rev_bigram_counts[word[i+1]].update(word[i])\n",
    "\n",
    "# Trigrams and reverse trigrams\n",
    "trigram_counts = defaultdict(lambda: defaultdict(Counter))\n",
    "for word in training_set:\n",
    "    word = '$$' + word\n",
    "    for i in range(2, len(word)):\n",
    "        trigram_counts[word[i-2]][word[i-1]].update(word[i])\n",
    "rev_trigram_counts = defaultdict(lambda: defaultdict(Counter))\n",
    "for word in training_set:\n",
    "    word = word + '$$'\n",
    "    for i in range(0, len(word)-2):\n",
    "        rev_trigram_counts[word[i+2]][word[i+1]].update(word[i])\n",
    "\n",
    "# Bidirectional bigrams (trigrams)\n",
    "bidir_bigram_counts = defaultdict(lambda: defaultdict(Counter))\n",
    "for word in training_set:\n",
    "    word = '$' + word + '$'\n",
    "    for i in range(1, len(word)-1):\n",
    "        bidir_bigram_counts[word[i-1]][word[i+1]].update([word[i]])\n",
    "\n",
    "# Bidirectional trigrams (pentagrams)\n",
    "bidir_trigram_counts = defaultdict(\n",
    "    lambda: defaultdict(lambda: defaultdict(lambda: defaultdict(Counter)))\n",
    ")\n",
    "for word in training_set:\n",
    "    word = '$$' + word + '$$'\n",
    "    for i in range(2, len(word)-2):\n",
    "        bidir_trigram_counts[word[i-2]][word[i-1]\n",
    "                                        ][word[i+1]][word[i+2]].update([word[i]])\n",
    "\n",
    "\n",
    "def advanced_guesser(\n",
    "    mask,\n",
    "    guessed,\n",
    "    unigram_counts=unigram_counts,\n",
    "    bigram_counts=bigram_counts,\n",
    "    rev_bigram_counts=rev_bigram_counts,\n",
    "    trigram_counts=trigram_counts,\n",
    "    rev_trigram_counts=rev_trigram_counts,\n",
    "    bidir_bigram_counts=bidir_bigram_counts,\n",
    "    bidir_trigram_counts=bidir_trigram_counts,\n",
    ") -> str:\n",
    "    \"\"\"Return the most frequent letter given bigram, trigram, and pentagram frequencies\"\"\"\n",
    "\n",
    "    # Remove the guessed letters\n",
    "    whole_alphabet = set('abcdefghijklmnopqrstuvwxyz')\n",
    "    remaining_alphabet: set[str] = whole_alphabet - guessed\n",
    "\n",
    "    ngram_count = dict()\n",
    "    for letter in remaining_alphabet:\n",
    "        ngram_count[letter] = 0\n",
    "\n",
    "    mask = ['$', '$', '$'] + mask + ['$', '$', '$']\n",
    "    for i in range(3, len(mask)-3):\n",
    "        if mask[i] == '_':\n",
    "            # Pentagram\n",
    "            if mask[i-2] != '_' and mask[i-1] != '_' and mask[i+1] != '_' and mask[i+2] != '_':\n",
    "                for letter in remaining_alphabet:\n",
    "                    ngram_count[letter] += bidir_trigram_counts.get(mask[i-2], {}).get(\n",
    "                        mask[i-1], {}).get(mask[i+1], {}).get(mask[i+2], {}).get(letter, 0)\n",
    "\n",
    "            # Trigram\n",
    "            elif mask[i-1] != '_' and mask[i+1] != '_':\n",
    "                for letter in remaining_alphabet:\n",
    "                    ngram_count[letter] += bidir_bigram_counts.get(\n",
    "                        mask[i-1], {}).get(mask[i+1], {}).get(letter, 0)\n",
    "            elif mask[i-2] != '_' and mask[i-1] != '_':\n",
    "                for letter in remaining_alphabet:\n",
    "                    ngram_count[letter] += trigram_counts.get(\n",
    "                        mask[i-2], {}).get(mask[i-1], {}).get(letter, 0)\n",
    "            elif mask[i+2] != '_' and mask[i+1] != '_':\n",
    "                for letter in remaining_alphabet:\n",
    "                    ngram_count[letter] += rev_trigram_counts.get(\n",
    "                        mask[i+2], {}).get(mask[i+1], {}).get(letter, 0)\n",
    "\n",
    "            # Bigram\n",
    "            elif mask[i-1] != '_':\n",
    "                for letter in remaining_alphabet:\n",
    "                    ngram_count[letter] += bigram_counts.get(\n",
    "                        mask[i-1], {}).get(letter, 0)\n",
    "            elif mask[i+1] != '_':\n",
    "                for letter in remaining_alphabet:\n",
    "                    ngram_count[letter] += rev_bigram_counts.get(\n",
    "                        mask[i+1], {}).get(letter, 0)\n",
    "\n",
    "            # Unigram\n",
    "            else:\n",
    "                for letter in remaining_alphabet:\n",
    "                    ngram_count[letter] += unigram_counts.get(letter, 0)\n",
    "    return max(ngram_count, key=ngram_count.get)\n",
    "\n",
    "\n",
    "test(advanced_guesser, \"advanced guesser\")"
   ]
  }
 ],
 "metadata": {
  "kernelspec": {
   "display_name": "Python 3",
   "language": "python",
   "name": "python3"
  },
  "language_info": {
   "codemirror_mode": {
    "name": "ipython",
    "version": 3
   },
   "file_extension": ".py",
   "mimetype": "text/x-python",
   "name": "python",
   "nbconvert_exporter": "python",
   "pygments_lexer": "ipython3",
   "version": "3.8.20"
  }
 },
 "nbformat": 4,
 "nbformat_minor": 2
}
