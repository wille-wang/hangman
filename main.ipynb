{
 "cells": [
  {
   "cell_type": "markdown",
   "metadata": {},
   "source": [
    "## Hangman Logic"
   ]
  },
  {
   "cell_type": "code",
   "execution_count": 3,
   "metadata": {},
   "outputs": [],
   "source": [
    "def hangman(secret_word: str, guesser, max_mistakes=8, verbose=True, **guesser_args):\n",
    "    \"\"\"Play a hangman game with the secret word with the provided guesser\"\"\"\n",
    "\n",
    "    # Initialize the game state\n",
    "    secret_word = secret_word.lower()\n",
    "    mask = ['_'] * len(secret_word)\n",
    "    guessed = set()\n",
    "    if verbose:\n",
    "        print(\"Starting hangman game. Target is\",\n",
    "              ' '.join(mask), 'length', len(secret_word))\n",
    "\n",
    "    # Loop through the game\n",
    "    mistakes = 0\n",
    "    while mistakes < max_mistakes:\n",
    "        if verbose:\n",
    "            print(\"You have\", (max_mistakes-mistakes), \"attempts remaining.\")\n",
    "        guess = guesser(mask, guessed, **guesser_args)\n",
    "\n",
    "        # Print the guess\n",
    "        if verbose:\n",
    "            print('Guess is', guess)\n",
    "\n",
    "        # Check if the guess is already guessed\n",
    "        if guess in guessed:\n",
    "            if verbose:\n",
    "                print('Already guessed this before.')\n",
    "            mistakes += 1\n",
    "        else:\n",
    "            # Add the guess to the guessed set if it is valid and not already guessed\n",
    "            guessed.add(guess)\n",
    "            if guess in secret_word and len(guess) == 1:\n",
    "                for i, c in enumerate(secret_word):\n",
    "                    if c == guess:\n",
    "                        mask[i] = c\n",
    "                if verbose:\n",
    "                    print('Good guess:', ' '.join(mask))\n",
    "            else:\n",
    "                # Print the mistake if the guess is invalid\n",
    "                if len(guess) != 1:\n",
    "                    print('Please guess with only 1 character.')\n",
    "                if verbose:\n",
    "                    print('Sorry, try again.')\n",
    "                mistakes += 1\n",
    "\n",
    "        # Check if the game is over and break\n",
    "        if '_' not in mask:\n",
    "            if verbose:\n",
    "                print('Congratulations, you won.')\n",
    "            return mistakes\n",
    "\n",
    "    # Print the secret word if the game is lost\n",
    "    if verbose:\n",
    "        print('Out of guesses. The word was', secret_word)\n",
    "    # Return the number of mistakes made\n",
    "    return mistakes"
   ]
  },
  {
   "cell_type": "markdown",
   "metadata": {},
   "source": [
    "## Human Guesser"
   ]
  },
  {
   "cell_type": "code",
   "execution_count": 4,
   "metadata": {},
   "outputs": [],
   "source": [
    "def human(mask, guessed, **kwargs):\n",
    "    \"\"\"Play a hangman game interactively with the user\"\"\"\n",
    "\n",
    "    print('\\nEnter your guess:')\n",
    "    return input().lower().strip()\n",
    "\n",
    "\n",
    "# Set `interactive` to `True` to play the game manually\n",
    "interactive = False\n",
    "# interactive = True\n",
    "\n",
    "if interactive:\n",
    "    hangman('whatever', human, 8, True)"
   ]
  }
 ],
 "metadata": {
  "kernelspec": {
   "display_name": "Python 3",
   "language": "python",
   "name": "python3"
  },
  "language_info": {
   "codemirror_mode": {
    "name": "ipython",
    "version": 3
   },
   "file_extension": ".py",
   "mimetype": "text/x-python",
   "name": "python",
   "nbconvert_exporter": "python",
   "pygments_lexer": "ipython3",
   "version": "3.8.20"
  }
 },
 "nbformat": 4,
 "nbformat_minor": 2
}
